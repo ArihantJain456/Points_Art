{
 "cells": [
  {
   "cell_type": "markdown",
   "metadata": {},
   "source": [
    "### Import necessary libraries"
   ]
  },
  {
   "cell_type": "code",
   "execution_count": 174,
   "metadata": {},
   "outputs": [],
   "source": [
    "import bisect\n",
    "import scipy.spatial\n",
    "import numpy as np\n",
    "import random\n",
    "import cv2\n",
    "import math\n",
    "from matplotlib import pyplot as plt\n",
    "from sklearn.cluster import KMeans"
   ]
  },
  {
   "cell_type": "markdown",
   "metadata": {},
   "source": [
    "### Define utility functions"
   ]
  },
  {
   "cell_type": "code",
   "execution_count": 175,
   "metadata": {},
   "outputs": [
    {
     "data": {
      "text/plain": [
       "256000"
      ]
     },
     "execution_count": 175,
     "metadata": {},
     "output_type": "execute_result"
    }
   ],
   "source": [
    "len(grid)"
   ]
  },
  {
   "cell_type": "code",
   "execution_count": 186,
   "metadata": {},
   "outputs": [
    {
     "data": {
      "text/plain": [
       "array([6.40312424, 7.81024968, 9.21954446])"
      ]
     },
     "execution_count": 186,
     "metadata": {},
     "output_type": "execute_result"
    }
   ],
   "source": [
    "np.amax(scipy.spatial.distance.cdist([[4,5],[5,6],[6,7]], [[0,0],[1,1]]),axis=1)"
   ]
  },
  {
   "cell_type": "code",
   "execution_count": 189,
   "metadata": {},
   "outputs": [
    {
     "ename": "SyntaxError",
     "evalue": "invalid syntax (<ipython-input-189-dd71e5366434>, line 23)",
     "output_type": "error",
     "traceback": [
      "\u001b[0;36m  File \u001b[0;32m\"<ipython-input-189-dd71e5366434>\"\u001b[0;36m, line \u001b[0;32m23\u001b[0m\n\u001b[0;31m    def get_color_from_prob(probabilities, palette){\u001b[0m\n\u001b[0m                                                   ^\u001b[0m\n\u001b[0;31mSyntaxError\u001b[0m\u001b[0;31m:\u001b[0m invalid syntax\n"
     ]
    }
   ],
   "source": [
    "\n",
    "def compute_color_probabilities(pixels, palette, k=9, rand = False):\n",
    "    distances = scipy.spatial.distance.cdist(pixels, palette)\n",
    "    maxima = np.amax(distances, axis=1)\n",
    "\n",
    "    distances = maxima[:, None] - distances\n",
    "    summ = np.sum(distances, 1)\n",
    "    distances /= summ[:, None]\n",
    "\n",
    "    distances = np.exp(k*len(palette)*distances)\n",
    "    summ = np.sum(distances, 1)\n",
    "    distances /= summ[:, None]\n",
    "    if rand:\n",
    "        return np.cumsum(distances, axis=1, dtype=np.float32)\n",
    "    else:\n",
    "        return distances\n",
    "\n",
    "def color_select(probabilities, palette):\n",
    "    r = random.uniform(0, 1)\n",
    "    i = bisect.bisect_left(probabilities, r)\n",
    "    return palette[i] if i < len(palette) else palette[-1]\n",
    "\n",
    "def get_color_from_prob(probabilities, palette):\n",
    "    return palette[np.argmax(probabilities)]\n",
    "\n",
    "\n",
    "def randomized_grid(h, w, scale):\n",
    "    assert (scale > 0)\n",
    "\n",
    "    r = scale//2\n",
    "\n",
    "    grid = []\n",
    "    for i in range(0, h, scale):\n",
    "        for j in range(0, w, scale):\n",
    "            y = random.randint(-r, r) + i\n",
    "            x = random.randint(-r, r) + j\n",
    "\n",
    "            grid.append((y % h, x % w))\n",
    "\n",
    "    random.shuffle(grid)\n",
    "    return grid\n",
    "\n",
    "\n",
    "def limit_size(img, max_x, max_y=0):\n",
    "    if max_x == 0:\n",
    "        return img\n",
    "\n",
    "    if max_y == 0:\n",
    "        max_y = max_x\n",
    "\n",
    "    ratio = min(1.0, float(max_x) / img.shape[1], float(max_y) / img.shape[0])\n",
    "\n",
    "    if ratio != 1.0:\n",
    "        shape = (int(img.shape[1] * ratio), int(img.shape[0] * ratio))\n",
    "        return cv2.resize(img, shape, interpolation=cv2.INTER_AREA)\n",
    "    else:\n",
    "        return img\n",
    "\n",
    "\n",
    "def clipped_addition(img, x, _max=255, _min=0):\n",
    "    if x > 0:\n",
    "        mask = img > (_max - x)\n",
    "        img += x\n",
    "        np.putmask(img, mask, _max)\n",
    "    if x < 0:\n",
    "        mask = img < (_min - x)\n",
    "        img += x\n",
    "        np.putmask(img, mask, _min)\n",
    "\n",
    "\n",
    "def regulate(img, hue=0, saturation=0, luminosity=0):\n",
    "    hsv = cv2.cvtColor(img, cv2.COLOR_BGR2HSV_FULL)\n",
    "    if hue < 0:\n",
    "        hue = 255 + hue\n",
    "    hsv[:, :, 0] += hue\n",
    "    clipped_addition(hsv[:, :, 1], saturation)\n",
    "    clipped_addition(hsv[:, :, 2], luminosity)\n",
    "    return cv2.cvtColor(hsv, cv2.COLOR_HSV2BGR_FULL)\n",
    "\n",
    "def get_color_palette(img, n=10, scale=200):\n",
    "    # scale down the image to speedup kmeans\n",
    "    img = limit_size(img, scale)\n",
    "\n",
    "    clt = KMeans(n_clusters=n)\n",
    "    clt.fit(img.reshape(-1, 3))\n",
    "\n",
    "    return clt.cluster_centers_"
   ]
  },
  {
   "cell_type": "code",
   "execution_count": 178,
   "metadata": {},
   "outputs": [],
   "source": [
    "\n",
    "class VectorField:\n",
    "    def __init__(self, fieldx, fieldy):\n",
    "        self.fieldx = fieldx\n",
    "        self.fieldy = fieldy\n",
    "\n",
    "    @staticmethod\n",
    "    def from_gradient(gray):\n",
    "        fieldx = cv2.Scharr(gray, cv2.CV_32F, 1, 0) / 15.36\n",
    "        fieldy = cv2.Scharr(gray, cv2.CV_32F, 0, 1) / 15.36\n",
    "\n",
    "        return VectorField(fieldx, fieldy)\n",
    "\n",
    "    def get_magnitude_image(self):\n",
    "        res = np.sqrt(self.fieldx**2 + self.fieldy**2)\n",
    "        \n",
    "        return (res * 255/np.max(res)).astype(np.uint8)\n",
    "\n",
    "    def smooth(self, radius, iterations=1):\n",
    "        s = 2*radius + 1\n",
    "        for _ in range(iterations):\n",
    "            self.fieldx = cv2.GaussianBlur(self.fieldx, (s, s), 0)\n",
    "            self.fieldy = cv2.GaussianBlur(self.fieldy, (s, s), 0)\n",
    "\n",
    "    def direction(self, i, j):\n",
    "        return math.atan2(self.fieldy[i, j], self.fieldx[i, j])\n",
    "\n",
    "    def magnitude(self, i, j):\n",
    "        return math.hypot(self.fieldx[i, j], self.fieldy[i, j])"
   ]
  },
  {
   "cell_type": "code",
   "execution_count": 179,
   "metadata": {},
   "outputs": [],
   "source": [
    "img = cv2.imread('./minion_gang.jpg')"
   ]
  },
  {
   "cell_type": "code",
   "execution_count": 180,
   "metadata": {},
   "outputs": [
    {
     "name": "stdout",
     "output_type": "stream",
     "text": [
      "Stroke width: 2\n",
      "Gradient smoothing radius: 38\n"
     ]
    }
   ],
   "source": [
    "stroke_scale = int(math.ceil(max(img.shape) / 1000))\n",
    "print(\"Stroke width: %d\" % stroke_scale)\n",
    "\n",
    "gradient_smoothing_radius = int(round(max(img.shape) / 50))\n",
    "print(\"Gradient smoothing radius: %d\" % gradient_smoothing_radius)"
   ]
  },
  {
   "cell_type": "code",
   "execution_count": 181,
   "metadata": {},
   "outputs": [
    {
     "name": "stdout",
     "output_type": "stream",
     "text": [
      "Computing color palette...\n"
     ]
    }
   ],
   "source": [
    "# convert the image to grayscale to compute the gradient\n",
    "gray = cv2.cvtColor(img, cv2.COLOR_BGR2GRAY)\n",
    "\n",
    "print(\"Computing color palette...\")\n",
    "palette = get_color_palette(img,10)"
   ]
  },
  {
   "cell_type": "code",
   "execution_count": 182,
   "metadata": {},
   "outputs": [],
   "source": [
    "complements = complement(palette)\n",
    "palette = np.vstack((palette,complements))"
   ]
  },
  {
   "cell_type": "code",
   "execution_count": 183,
   "metadata": {},
   "outputs": [
    {
     "name": "stdout",
     "output_type": "stream",
     "text": [
      "Computing gradient...\n",
      "Smoothing gradient...\n"
     ]
    },
    {
     "data": {
      "image/png": "[encoded data removed]",
      "text/plain": [
       "<matplotlib.figure.Figure at 0x7f49751e30b8>"
      ]
     },
     "metadata": {},
     "output_type": "display_data"
    }
   ],
   "source": [
    "print(\"Computing gradient...\")\n",
    "gradient = VectorField.from_gradient(gray)\n",
    "\n",
    "print(\"Smoothing gradient...\")\n",
    "gradient.smooth(gradient_smoothing_radius)\n",
    "plt.imshow(gradient.get_magnitude_image(),cmap='gray')\n",
    "plt.show()"
   ]
  },
  {
   "cell_type": "code",
   "execution_count": 190,
   "metadata": {},
   "outputs": [
    {
     "name": "stdout",
     "output_type": "stream",
     "text": [
      "Drawing image...\n"
     ]
    },
    {
     "ename": "NameError",
     "evalue": "name 'get_color_from_prob' is not defined",
     "output_type": "error",
     "traceback": [
      "\u001b[0;31m---------------------------------------------------------------------------\u001b[0m",
      "\u001b[0;31mNameError\u001b[0m                                 Traceback (most recent call last)",
      "\u001b[0;32m<ipython-input-190-103de5d54636>\u001b[0m in \u001b[0;36m<module>\u001b[0;34m()\u001b[0m\n\u001b[1;32m     13\u001b[0m \u001b[0;34m\u001b[0m\u001b[0m\n\u001b[1;32m     14\u001b[0m \u001b[0;32mfor\u001b[0m \u001b[0mi\u001b[0m\u001b[0;34m,\u001b[0m \u001b[0;34m(\u001b[0m\u001b[0my\u001b[0m\u001b[0;34m,\u001b[0m \u001b[0mx\u001b[0m\u001b[0;34m)\u001b[0m \u001b[0;32min\u001b[0m \u001b[0menumerate\u001b[0m\u001b[0;34m(\u001b[0m\u001b[0mgrid\u001b[0m\u001b[0;34m)\u001b[0m\u001b[0;34m:\u001b[0m\u001b[0;34m\u001b[0m\u001b[0m\n\u001b[0;32m---> 15\u001b[0;31m     \u001b[0mcolor\u001b[0m \u001b[0;34m=\u001b[0m \u001b[0mget_color_from_prob\u001b[0m\u001b[0;34m(\u001b[0m\u001b[0mcolor_probabilities\u001b[0m\u001b[0;34m[\u001b[0m\u001b[0mi\u001b[0m\u001b[0;34m]\u001b[0m\u001b[0;34m,\u001b[0m \u001b[0mpalette\u001b[0m\u001b[0;34m)\u001b[0m\u001b[0;34m\u001b[0m\u001b[0m\n\u001b[0m\u001b[1;32m     16\u001b[0m     \u001b[0mangle\u001b[0m \u001b[0;34m=\u001b[0m \u001b[0mmath\u001b[0m\u001b[0;34m.\u001b[0m\u001b[0mdegrees\u001b[0m\u001b[0;34m(\u001b[0m\u001b[0mgradient\u001b[0m\u001b[0;34m.\u001b[0m\u001b[0mdirection\u001b[0m\u001b[0;34m(\u001b[0m\u001b[0my\u001b[0m\u001b[0;34m,\u001b[0m \u001b[0mx\u001b[0m\u001b[0;34m)\u001b[0m\u001b[0;34m)\u001b[0m \u001b[0;34m+\u001b[0m \u001b[0;36m90\u001b[0m\u001b[0;34m\u001b[0m\u001b[0m\n\u001b[1;32m     17\u001b[0m     \u001b[0mlength\u001b[0m \u001b[0;34m=\u001b[0m \u001b[0mint\u001b[0m\u001b[0;34m(\u001b[0m\u001b[0mround\u001b[0m\u001b[0;34m(\u001b[0m\u001b[0mstroke_scale\u001b[0m \u001b[0;34m+\u001b[0m \u001b[0mstroke_scale\u001b[0m \u001b[0;34m*\u001b[0m \u001b[0mmath\u001b[0m\u001b[0;34m.\u001b[0m\u001b[0msqrt\u001b[0m\u001b[0;34m(\u001b[0m\u001b[0mgradient\u001b[0m\u001b[0;34m.\u001b[0m\u001b[0mmagnitude\u001b[0m\u001b[0;34m(\u001b[0m\u001b[0my\u001b[0m\u001b[0;34m,\u001b[0m \u001b[0mx\u001b[0m\u001b[0;34m)\u001b[0m\u001b[0;34m)\u001b[0m\u001b[0;34m)\u001b[0m\u001b[0;34m)\u001b[0m\u001b[0;34m\u001b[0m\u001b[0m\n",
      "\u001b[0;31mNameError\u001b[0m: name 'get_color_from_prob' is not defined"
     ]
    }
   ],
   "source": [
    "print(\"Drawing image...\")\n",
    "res = np.zeros((img.shape[0], img.shape[1], 3), np.uint8)\n",
    "res[:,:] = (255,255,255)\n",
    "\n",
    "# define a randomized grid of locations for the brush strokes\n",
    "grid = randomized_grid(img.shape[0], img.shape[1], scale=3)\n",
    "\n",
    "# get the pixel colors at each point of the grid\n",
    "pixel_colors = np.array([img[x[0], x[1]] for x in grid])\n",
    "\n",
    "# lower values of k means more randomnes\n",
    "color_probabilities = compute_color_probabilities(pixel_colors, palette, k=9)\n",
    "\n",
    "for i, (y, x) in enumerate(grid):\n",
    "    color = get_color_from_prob(color_probabilities[i], palette)\n",
    "    angle = math.degrees(gradient.direction(y, x)) + 90\n",
    "    length = int(round(stroke_scale + stroke_scale * math.sqrt(gradient.magnitude(y, x))))\n",
    "\n",
    "    # draw the brush stroke\n",
    "    cv2.ellipse(res, (x, y), (stroke_scale, stroke_scale), angle, 0, 360, color, -1, cv2.LINE_AA)\n",
    "\n",
    "plt.imshow(limit_size(cv2.cvtColor(res, cv2.COLOR_BGR2RGB), 1080))\n",
    "cv2.imwrite('minion_gang_out.png', res)"
   ]
  }
 ],
 "metadata": {
  "kernelspec": {
   "display_name": "Python 3",
   "language": "python",
   "name": "python3"
  },
  "language_info": {
   "codemirror_mode": {
    "name": "ipython",
    "version": 3
   },
   "file_extension": ".py",
   "mimetype": "text/x-python",
   "name": "python",
   "nbconvert_exporter": "python",
   "pygments_lexer": "ipython3",
   "version": "3.5.2"
  }
 },
 "nbformat": 4,
 "nbformat_minor": 2
}
